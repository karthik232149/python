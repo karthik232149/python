{
 "cells": [
  {
   "cell_type": "code",
   "execution_count": 5,
   "metadata": {},
   "outputs": [
    {
     "name": "stdout",
     "output_type": "stream",
     "text": [
      "DICTIONARY= {'apple': 1, 'orange': 5, 'banana': 3, 'grapes': 4}\n",
      "dictionary in ascending order: {'apple': 1, 'banana': 3, 'grapes': 4, 'orange': 5}\n",
      "dictionary in descending order: {'orange': 5, 'grapes': 4, 'banana': 3, 'apple': 1}\n"
     ]
    }
   ],
   "source": [
    "#sorting in ascending and descending\n",
    "d={'apple':1,'orange':5,'banana':3,'grapes':4}\n",
    "print(\"DICTIONARY=\",d)\n",
    "items=list(d.items())\n",
    "items.sort()\n",
    "d=dict(items)\n",
    "print(\"dictionary in ascending order:\",d)\n",
    " \n",
    "items=list(d.items())\n",
    "items.reverse()\n",
    "d=dict(items)\n",
    "print(\"dictionary in descending order:\",d)\n"
   ]
  },
  {
   "cell_type": "code",
   "execution_count": null,
   "metadata": {
    "collapsed": true
   },
   "outputs": [],
   "source": []
  }
 ],
 "metadata": {
  "kernelspec": {
   "display_name": "Python 3",
   "language": "python",
   "name": "python3"
  },
  "language_info": {
   "codemirror_mode": {
    "name": "ipython",
    "version": 3
   },
   "file_extension": ".py",
   "mimetype": "text/x-python",
   "name": "python",
   "nbconvert_exporter": "python",
   "pygments_lexer": "ipython3",
   "version": "3.6.3"
  }
 },
 "nbformat": 4,
 "nbformat_minor": 2
}

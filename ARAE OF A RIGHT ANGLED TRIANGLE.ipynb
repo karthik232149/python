{
 "cells": [
  {
   "cell_type": "code",
   "execution_count": 1,
   "metadata": {},
   "outputs": [
    {
     "name": "stdout",
     "output_type": "stream",
     "text": [
      "enter the breath:4\n",
      "enter the height:2\n",
      "area of right angled triangle= 4.0\n"
     ]
    }
   ],
   "source": [
    "b=int(input(\"enter the breath:\"))\n",
    "h=int(input(\"enter the height:\"))\n",
    "area=1/2*(b*h)\n",
    "print(\"area of right angled triangle=\",area)"
   ]
  },
  {
   "cell_type": "code",
   "execution_count": null,
   "metadata": {
    "collapsed": true
   },
   "outputs": [],
   "source": []
  }
 ],
 "metadata": {
  "kernelspec": {
   "display_name": "Python 3",
   "language": "python",
   "name": "python3"
  },
  "language_info": {
   "codemirror_mode": {
    "name": "ipython",
    "version": 3
   },
   "file_extension": ".py",
   "mimetype": "text/x-python",
   "name": "python",
   "nbconvert_exporter": "python",
   "pygments_lexer": "ipython3",
   "version": "3.6.3"
  }
 },
 "nbformat": 4,
 "nbformat_minor": 2
}

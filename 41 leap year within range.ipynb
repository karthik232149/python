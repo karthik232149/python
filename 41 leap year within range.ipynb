{
 "cells": [
  {
   "cell_type": "code",
   "execution_count": 6,
   "metadata": {},
   "outputs": [
    {
     "name": "stdout",
     "output_type": "stream",
     "text": [
      "enter the starting year limit:2020\n",
      "enter the ending year limit:2022\n",
      "The leap year between 2020 and 2022 are\n",
      "2020\n"
     ]
    }
   ],
   "source": [
    "#list leap year within a range\n",
    "a=int(input(\"enter the starting year limit:\"))\n",
    "b=int(input(\"enter the ending year limit:\"))\n",
    "print(\"The leap year between %d and %d are\"%(a,b))\n",
    "for i in range(a,b):\n",
    "    if(i%4==0):\n",
    "        if(i%100!=0 or i%400==0):\n",
    "            print(i)\n"
   ]
  },
  {
   "cell_type": "code",
   "execution_count": null,
   "metadata": {
    "collapsed": true
   },
   "outputs": [],
   "source": []
  }
 ],
 "metadata": {
  "kernelspec": {
   "display_name": "Python 3",
   "language": "python",
   "name": "python3"
  },
  "language_info": {
   "codemirror_mode": {
    "name": "ipython",
    "version": 3
   },
   "file_extension": ".py",
   "mimetype": "text/x-python",
   "name": "python",
   "nbconvert_exporter": "python",
   "pygments_lexer": "ipython3",
   "version": "3.6.3"
  }
 },
 "nbformat": 4,
 "nbformat_minor": 2
}

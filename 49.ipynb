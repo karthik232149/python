{
 "cells": [
  {
   "cell_type": "code",
   "execution_count": 6,
   "metadata": {},
   "outputs": [
    {
     "name": "stdout",
     "output_type": "stream",
     "text": [
      "Enter the numbers seperated by comma: 2,7,8,9,0\n",
      "the average of the above given numbers are: 5.2\n"
     ]
    }
   ],
   "source": [
    "#average value of numbers in a given tuple\n",
    "\n",
    "t= tuple(input('Enter the numbers seperated by comma: ').split(','))\n",
    "l=len(t)\n",
    "c=0\n",
    "for i in range(l):\n",
    "    c=int(t[i])+c\n",
    "    avg=c/l\n",
    "print(\"the average of the above given numbers are:\",avg)\n"
   ]
  },
  {
   "cell_type": "code",
   "execution_count": null,
   "metadata": {
    "collapsed": true
   },
   "outputs": [],
   "source": []
  }
 ],
 "metadata": {
  "kernelspec": {
   "display_name": "Python 3",
   "language": "python",
   "name": "python3"
  },
  "language_info": {
   "codemirror_mode": {
    "name": "ipython",
    "version": 3
   },
   "file_extension": ".py",
   "mimetype": "text/x-python",
   "name": "python",
   "nbconvert_exporter": "python",
   "pygments_lexer": "ipython3",
   "version": "3.6.3"
  }
 },
 "nbformat": 4,
 "nbformat_minor": 2
}

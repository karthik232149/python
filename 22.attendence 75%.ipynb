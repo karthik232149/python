{
 "cells": [
  {
   "cell_type": "code",
   "execution_count": 2,
   "metadata": {},
   "outputs": [
    {
     "name": "stdout",
     "output_type": "stream",
     "text": [
      "enter the number of classes held 66\n",
      "enter the number of classes attended 33\n",
      "percentage=50\n",
      "student cannot allowed to attend the exam\n"
     ]
    }
   ],
   "source": [
    "nh=int(input(\"enter the number of classes held \"))\n",
    "na=int(input(\"enter the number of classes attended \"))\n",
    "p=(na*100)/nh\n",
    "print(\"percentage=%d\" %p)\n",
    "if(p>=75):\n",
    "    print(\"student is allowed to attend the exam\")\n",
    "else:\n",
    "    print(\"student cannot allowed to attend the exam\")\n",
    "    "
   ]
  },
  {
   "cell_type": "code",
   "execution_count": null,
   "metadata": {
    "collapsed": true
   },
   "outputs": [],
   "source": []
  },
  {
   "cell_type": "code",
   "execution_count": null,
   "metadata": {
    "collapsed": true
   },
   "outputs": [],
   "source": []
  }
 ],
 "metadata": {
  "kernelspec": {
   "display_name": "Python 3",
   "language": "python",
   "name": "python3"
  }
 },
 "nbformat": 4,
 "nbformat_minor": 2
}

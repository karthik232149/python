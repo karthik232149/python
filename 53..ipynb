{
 "cells": [
  {
   "cell_type": "code",
   "execution_count": 4,
   "metadata": {},
   "outputs": [
    {
     "name": "stdout",
     "output_type": "stream",
     "text": [
      "Two lists have unequal length\n",
      " sum of two list are  not equal\n",
      "7  occurs in both list\n",
      "8  occurs in both list\n",
      "9  occurs in both list\n",
      "10  occurs in both list\n"
     ]
    }
   ],
   "source": [
    "#53. Enter 2 lists of integers.Check\n",
    "#(a) Whether list are of same length\n",
    "#(b) whether list sums to same value\n",
    "#(c) whether any value occur in both\n",
    "list1 = ['7', '8', '9', '10']\n",
    "list2 = ['8', '5', '7', '100', '10', '12','9']\n",
    "sum1 = str(0)\n",
    "sum2 = str(0)\n",
    "if len(list1) == len(list2):\n",
    "    print(\"Both list are  equal length\")\n",
    "else:\n",
    "    print(\"Two lists have unequal length\")\n",
    "for x in list1:\n",
    "    sum1 = sum1 + x\n",
    "for x in list2:\n",
    "    sum2 = sum2 + x\n",
    "if sum1 == sum2:\n",
    "    a = \"equal\"  \n",
    "else:\n",
    "    a = \"not equal\"  \n",
    "print(\" sum of two list are \", a)  \n",
    "for x in list1:\n",
    "    for y in list2:\n",
    "        if x == y:\n",
    "            print(y,\" occurs in both list\")\n"
   ]
  },
  {
   "cell_type": "code",
   "execution_count": null,
   "metadata": {
    "collapsed": true
   },
   "outputs": [],
   "source": []
  }
 ],
 "metadata": {
  "kernelspec": {
   "display_name": "Python 3",
   "language": "python",
   "name": "python3"
  },
  "language_info": {
   "codemirror_mode": {
    "name": "ipython",
    "version": 3
   },
   "file_extension": ".py",
   "mimetype": "text/x-python",
   "name": "python",
   "nbconvert_exporter": "python",
   "pygments_lexer": "ipython3",
   "version": "3.6.3"
  }
 },
 "nbformat": 4,
 "nbformat_minor": 2
}

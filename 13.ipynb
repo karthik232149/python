{
 "cells": [
  {
   "cell_type": "code",
   "execution_count": 6,
   "metadata": {},
   "outputs": [
    {
     "name": "stdout",
     "output_type": "stream",
     "text": [
      "enter 1st string:hello\n",
      "enter 2st string:world\n",
      "new string is:  wollo herld\n"
     ]
    }
   ],
   "source": [
    "str1=input(\"enter 1st string:\")\n",
    "str2=input(\"enter 2st string:\")\n",
    "x=str2[0:2]+str1[2:]+\" \"+str1[0:2]+str2[2:]\n",
    "print(\"new string is: \",x)\n"
   ]
  },
  {
   "cell_type": "code",
   "execution_count": null,
   "metadata": {
    "collapsed": true
   },
   "outputs": [],
   "source": []
  }
 ],
 "metadata": {
  "kernelspec": {
   "display_name": "Python 3",
   "language": "python",
   "name": "python3"
  },
  "language_info": {
   "codemirror_mode": {
    "name": "ipython",
    "version": 3
   },
   "file_extension": ".py",
   "mimetype": "text/x-python",
   "name": "python",
   "nbconvert_exporter": "python",
   "pygments_lexer": "ipython3",
   "version": "3.6.3"
  }
 },
 "nbformat": 4,
 "nbformat_minor": 2
}

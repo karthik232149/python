{
 "cells": [
  {
   "cell_type": "code",
   "execution_count": 1,
   "metadata": {},
   "outputs": [
    {
     "name": "stdout",
     "output_type": "stream",
     "text": [
      "enter the numbers with comma seperated:22,33,44,44\n",
      "sum of elements in a list  ['22', '33', '44', '44'] is:  143\n"
     ]
    }
   ],
   "source": [
    "#find the sum of all items in a list.user should enter elements of the list\n",
    "a=(input(\"enter the numbers with comma seperated:\"))\n",
    "b=a.split(\",\")\n",
    "l=len(b)\n",
    "d=0\n",
    "i=0\n",
    "for i in range(l):\n",
    "     c=int(b[i])\n",
    "     d=d+c   \n",
    "print(\"sum of elements in a list \",b,\"is: \",d)\n"
   ]
  },
  {
   "cell_type": "code",
   "execution_count": null,
   "metadata": {
    "collapsed": true
   },
   "outputs": [],
   "source": []
  }
 ],
 "metadata": {
  "kernelspec": {
   "display_name": "Python 3",
   "language": "python",
   "name": "python3"
  },
  "language_info": {
   "codemirror_mode": {
    "name": "ipython",
    "version": 3
   },
   "file_extension": ".py",
   "mimetype": "text/x-python",
   "name": "python",
   "nbconvert_exporter": "python",
   "pygments_lexer": "ipython3",
   "version": "3.6.3"
  }
 },
 "nbformat": 4,
 "nbformat_minor": 2
}

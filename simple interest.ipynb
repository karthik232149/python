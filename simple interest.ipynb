{
 "cells": [
  {
   "cell_type": "code",
   "execution_count": 2,
   "metadata": {},
   "outputs": [
    {
     "name": "stdout",
     "output_type": "stream",
     "text": [
      "enter the principle amount:2500\n",
      "enter the no of years:2\n",
      "enter the rate of interest(in %):2\n",
      "simple interst: 100.0\n"
     ]
    }
   ],
   "source": [
    "p=float(input(\"enter the principle amount:\"))\n",
    "n=float(input(\"enter the no of years:\"))\n",
    "r=float(input(\"enter the rate of interest(in %):\"))\n",
    "si=p*n*r/100\n",
    "print(\"simple interst:\",si)\n"
   ]
  },
  {
   "cell_type": "raw",
   "metadata": {},
   "source": []
  },
  {
   "cell_type": "code",
   "execution_count": null,
   "metadata": {
    "collapsed": true
   },
   "outputs": [],
   "source": []
  }
 ],
 "metadata": {
  "kernelspec": {
   "display_name": "Python 3",
   "language": "python",
   "name": "python3"
  },
  "language_info": {
   "codemirror_mode": {
    "name": "ipython",
    "version": 3
   },
   "file_extension": ".py",
   "mimetype": "text/x-python",
   "name": "python",
   "nbconvert_exporter": "python",
   "pygments_lexer": "ipython3",
   "version": "3.6.3"
  }
 },
 "nbformat": 4,
 "nbformat_minor": 2
}

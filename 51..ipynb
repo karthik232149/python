{
 "cells": [
  {
   "cell_type": "code",
   "execution_count": 1,
   "metadata": {},
   "outputs": [
    {
     "name": "stdout",
     "output_type": "stream",
     "text": [
      "Enter an integer (enter 'done' to stop): 1\n",
      "Enter an integer (enter 'done' to stop): 10\n",
      "Enter an integer (enter 'done' to stop): 100\n",
      "Enter an integer (enter 'done' to stop): 1000\n",
      "Enter an integer (enter 'done' to stop): done\n",
      "[1, 10, 100, 'over']\n"
     ]
    }
   ],
   "source": [
    "values = []\n",
    "while True:\n",
    "  value = input(\"Enter an integer (enter 'done' to stop): \")\n",
    "  if value == 'done':\n",
    "    break\n",
    "  elif int(value) > 100:\n",
    "    values.append('over')\n",
    "  else:\n",
    "    values.append(int(value))\n",
    "print(values)"
   ]
  },
  {
   "cell_type": "code",
   "execution_count": null,
   "metadata": {
    "collapsed": true
   },
   "outputs": [],
   "source": []
  }
 ],
 "metadata": {
  "kernelspec": {
   "display_name": "Python 3",
   "language": "python",
   "name": "python3"
  },
  "language_info": {
   "codemirror_mode": {
    "name": "ipython",
    "version": 3
   },
   "file_extension": ".py",
   "mimetype": "text/x-python",
   "name": "python",
   "nbconvert_exporter": "python",
   "pygments_lexer": "ipython3",
   "version": "3.6.3"
  }
 },
 "nbformat": 4,
 "nbformat_minor": 2
}

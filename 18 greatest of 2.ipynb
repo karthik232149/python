{
 "cells": [
  {
   "cell_type": "code",
   "execution_count": 2,
   "metadata": {},
   "outputs": [
    {
     "name": "stdout",
     "output_type": "stream",
     "text": [
      "enter thr first number:55\n",
      "enter thr first number:77\n",
      "77 is greatest\n"
     ]
    }
   ],
   "source": [
    "a=int(input(\"enter thr first number:\"))\n",
    "b=int(input(\"enter thr first number:\"))\n",
    "if(a>b):\n",
    "    print(a,\" is greatest\")\n",
    "else:\n",
    "    print(b,\"is greatest\")"
   ]
  },
  {
   "cell_type": "code",
   "execution_count": null,
   "metadata": {
    "collapsed": true
   },
   "outputs": [],
   "source": []
  }
 ],
 "metadata": {
  "kernelspec": {
   "display_name": "Python 3",
   "language": "python",
   "name": "python3"
  },
  "language_info": {
   "codemirror_mode": {
    "name": "ipython",
    "version": 3
   },
   "file_extension": ".py",
   "mimetype": "text/x-python",
   "name": "python",
   "nbconvert_exporter": "python",
   "pygments_lexer": "ipython3",
   "version": "3.6.3"
  }
 },
 "nbformat": 4,
 "nbformat_minor": 2
}

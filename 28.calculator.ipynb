{
 "cells": [
  {
   "cell_type": "code",
   "execution_count": 3,
   "metadata": {},
   "outputs": [
    {
     "name": "stdout",
     "output_type": "stream",
     "text": [
      "Select the Operations\n",
      "1.Add\n",
      "2.substract\n",
      "3.Multiply\n",
      "4.Division\n",
      "Enter the 1st number:33\n",
      "Enter the 2nd number:56\n",
      "Enter the choice:4\n",
      "Division:0.59\n"
     ]
    }
   ],
   "source": [
    "\n",
    "print(\"Select the Operations\")\n",
    "print(\"1.Add\")\n",
    "print(\"2.substract\")\n",
    "print(\"3.Multiply\")\n",
    "print(\"4.Division\")\n",
    "num1=float(input(\"Enter the 1st number:\"))\n",
    "num2=float(input(\"Enter the 2nd number:\"))\n",
    "choice=int(input(\"Enter the choice:\"))\n",
    "if(choice==1):\n",
    "   print(\"Addition:%.2f\"%(num1+num2))\n",
    "elif(choice==2):\n",
    " print(\"Substraction:%.2f\"%(num1-num2))\n",
    "elif(choice==3):\n",
    " print(\"Multiply:%.2f\"%(num1*num2))\n",
    "elif(choice==4):\n",
    "  print(\"Division:%.2f\"%(num1/num2))\n",
    "else:\n",
    " print(\"imvalid\")\n"
   ]
  },
  {
   "cell_type": "code",
   "execution_count": null,
   "metadata": {
    "collapsed": true
   },
   "outputs": [],
   "source": []
  },
  {
   "cell_type": "code",
   "execution_count": null,
   "metadata": {
    "collapsed": true
   },
   "outputs": [],
   "source": []
  }
 ],
 "metadata": {
  "kernelspec": {
   "display_name": "Python 3",
   "language": "python",
   "name": "python3"
  },
  "language_info": {
   "codemirror_mode": {
    "name": "ipython",
    "version": 3
   },
   "file_extension": ".py",
   "mimetype": "text/x-python",
   "name": "python",
   "nbconvert_exporter": "python",
   "pygments_lexer": "ipython3",
   "version": "3.6.3"
  }
 },
 "nbformat": 4,
 "nbformat_minor": 2
}
